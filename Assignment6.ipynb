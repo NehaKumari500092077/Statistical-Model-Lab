{
  "nbformat": 4,
  "nbformat_minor": 0,
  "metadata": {
    "colab": {
      "name": "Welcome To Colaboratory",
      "provenance": [],
      "collapsed_sections": [],
      "toc_visible": true,
      "include_colab_link": true
    },
    "kernelspec": {
      "display_name": "Python 3",
      "name": "python3"
    }
  },
  "cells": [
    {
      "cell_type": "markdown",
      "metadata": {
        "id": "view-in-github",
        "colab_type": "text"
      },
      "source": [
        "<a href=\"https://colab.research.google.com/github/NehaKumari500092077/Statistical-Model-Lab/blob/main/Assignment6.ipynb\" target=\"_parent\"><img src=\"https://colab.research.google.com/assets/colab-badge.svg\" alt=\"Open In Colab\"/></a>"
      ]
    },
    {
      "cell_type": "markdown",
      "metadata": {
        "id": "0RS5W9nKlBvK"
      },
      "source": [
        "1.We are interested in knowing how likely it is for one type of tree to grow to a certain length. The length of these trees exhibit a normal distribution. The tree that you measure is 120 cm. Given the following information, do you think this tree length is uncommon for this type of tree? Mean: 100 Standard deviation: 10\n"
      ]
    },
    {
      "cell_type": "code",
      "metadata": {
        "id": "6QPRLpmglD2z",
        "outputId": "73485685-4425-4c71-894c-9fc0d71a96a3",
        "colab": {
          "base_uri": "https://localhost:8080/"
        }
      },
      "source": [
        "from scipy.stats import norm\n",
        "x = 120;\n",
        "mu = 100;\n",
        "sd = 10;\n",
        "p1=norm.cdf(x, mu, sd);\n",
        "print(round(p1, 4));"
      ],
      "execution_count": 3,
      "outputs": [
        {
          "output_type": "stream",
          "name": "stdout",
          "text": [
            "0.9772\n"
          ]
        }
      ]
    },
    {
      "cell_type": "markdown",
      "metadata": {
        "id": "4A6FmB6fmTok"
      },
      "source": [
        "2. You are interested in how uniform the lengths of socks are that are produced at a factory. You measure the distribution and see that there is a normal distribution for the length of the socks. Given the following information, how likely is it that a sock is above 25 cm. Mean: 20 Standard deviation: 1.5"
      ]
    },
    {
      "cell_type": "code",
      "metadata": {
        "id": "Uo_f9lyumgNX",
        "outputId": "5501708b-3486-4806-f320-7df847736314",
        "colab": {
          "base_uri": "https://localhost:8080/"
        }
      },
      "source": [
        "from scipy.stats import norm\n",
        "x = 25;\n",
        "mu = 20;\n",
        "sd = 1.5;\n",
        "p1=norm.cdf(x, mu, sd);\n",
        "print(round((1-p1), 4));"
      ],
      "execution_count": 6,
      "outputs": [
        {
          "output_type": "stream",
          "name": "stdout",
          "text": [
            "0.0004\n"
          ]
        }
      ]
    },
    {
      "cell_type": "markdown",
      "metadata": {
        "id": "HljxTx5zmhuj"
      },
      "source": [
        "3. For some computers, the time period between charges of the battery is normally distributed with a mean of 50 hours and a standard deviation of 15 hours. Rohan has one of these computers and needs to know the probability that the time period will be between 50 and 70 hours."
      ]
    },
    {
      "cell_type": "code",
      "metadata": {
        "id": "PKixkKsnmmEW",
        "outputId": "332dd37d-a533-4dbb-8151-70e1ef71d3cd",
        "colab": {
          "base_uri": "https://localhost:8080/"
        }
      },
      "source": [
        "from scipy.stats import norm\n",
        "x1 = 50;\n",
        "x2 = 70;\n",
        "mu = 50;\n",
        "sd = 15;\n",
        "p1=norm.cdf(x1, mu, sd);\n",
        "p2=norm.cdf(x2, mu, sd);\n",
        "print(p2 - p1);"
      ],
      "execution_count": 11,
      "outputs": [
        {
          "output_type": "stream",
          "name": "stdout",
          "text": [
            "0.4087887802741321\n"
          ]
        }
      ]
    },
    {
      "cell_type": "markdown",
      "metadata": {
        "id": "8WSijuITmmfe"
      },
      "source": [
        "4. The speeds of cars is measure using a radar unit, on a motorway. The speeds are normally distributed with a mean of 90 km/hr and a standard deviation of 10 km/hr. What is the probability that a car selected at chance is moving at more than 100 km/hr?"
      ]
    },
    {
      "cell_type": "code",
      "metadata": {
        "id": "d-pAkXhfmxic",
        "outputId": "9471a2f2-b831-4362-fd38-8b2defd4cb07",
        "colab": {
          "base_uri": "https://localhost:8080/"
        }
      },
      "source": [
        "from scipy.stats import norm\n",
        "x = 100;\n",
        "mu = 90;\n",
        "sd = 10;\n",
        "p1=norm.cdf(x, mu, sd);\n",
        "print(1-p1);"
      ],
      "execution_count": 14,
      "outputs": [
        {
          "output_type": "stream",
          "name": "stdout",
          "text": [
            "0.15865525393145707\n"
          ]
        }
      ]
    },
    {
      "cell_type": "markdown",
      "metadata": {
        "id": "00eJ3kjxmx5w"
      },
      "source": [
        "5. Suppose that the distribution of diastolic blood pressure in a population of hypertensive women is modeled well by a normal probability distribution with mean 100 mm Hg and standard deviation 14 mm Hg. Let X be the random variable representing this distribution. Find two symmetric values “a” and “b” such that Probability [ a < X < b ] = .985"
      ]
    },
    {
      "cell_type": "code",
      "metadata": {
        "id": "qwN3fUXAm-TA",
        "outputId": "eceb89b7-8e7a-4d0b-e3d1-5d4cac542256",
        "colab": {
          "base_uri": "https://localhost:8080/"
        }
      },
      "source": [
        "import scipy.stats as st\n",
        "def xValue(z, m, d):\n",
        " return (z*d)+m;\n",
        "mu=100;\n",
        "sd=14;\n",
        "z1=st.norm.ppf(0.99);\n",
        "z2=st.norm.ppf(0.005);\n",
        "print(\"a: \", xValue(z2, mu, sd));\n",
        "print(\"b: \", xValue(z1, mu, sd));"
      ],
      "execution_count": 27,
      "outputs": [
        {
          "output_type": "stream",
          "name": "stdout",
          "text": [
            "a:  63.93838975031539\n",
            "b:  132.56887023657177\n"
          ]
        }
      ]
    }
  ]
}