{
  "nbformat": 4,
  "nbformat_minor": 0,
  "metadata": {
    "colab": {
      "name": "Welcome To Colaboratory",
      "provenance": [],
      "collapsed_sections": [],
      "toc_visible": true,
      "include_colab_link": true
    },
    "kernelspec": {
      "display_name": "Python 3",
      "name": "python3"
    }
  },
  "cells": [
    {
      "cell_type": "markdown",
      "metadata": {
        "id": "view-in-github",
        "colab_type": "text"
      },
      "source": [
        "<a href=\"https://colab.research.google.com/github/NehaKumari500092077/Statistical-Model-Lab/blob/main/Assignment_7.ipynb\" target=\"_parent\"><img src=\"https://colab.research.google.com/assets/colab-badge.svg\" alt=\"Open In Colab\"/></a>"
      ]
    },
    {
      "cell_type": "markdown",
      "metadata": {
        "id": "TAdb4uFRMMWd"
      },
      "source": [
        "1. Write python code to get pdf and cdf of binomial distribution."
      ]
    },
    {
      "cell_type": "code",
      "metadata": {
        "id": "t0fzdLyIM54E",
        "outputId": "42d44fa4-866d-447f-f704-c8ad5e71b4b0",
        "colab": {
          "base_uri": "https://localhost:8080/"
        }
      },
      "source": [
        "def nCr(n, r):\n",
        "    return (fact(n) / (fact(r)* fact(n - r)));\n",
        "\n",
        "def power(a,b):\n",
        "\tif b==0:\n",
        "\t\treturn 1\n",
        "\telif a==0:\n",
        "\t\treturn 0\n",
        "\telif b==1:\n",
        "\t\treturn a\n",
        "\telse:\n",
        "\t\treturn a*power(a,b-1);\n",
        " \n",
        "def fact(n):\n",
        "    res = 1;\n",
        "    for i in range(2, n+1):\n",
        "        res = res * i;  \n",
        "    return res;\n",
        " \n",
        "n = 15;\n",
        "x = 1;\n",
        "p = 0.20;\n",
        "nCx = int(nCr(n, x));\n",
        "pdf = (nCx)*(power(p, x))*(power(1-p, n-x));\n",
        "cdf = 0;\n",
        "for i in range(x+1):\n",
        "  cdf = cdf + (nCr(n, i))*(power(p, i))*(power(1-p, n-i));\n",
        "\n",
        "print(\"pdf and cdf is: \", pdf, cdf);"
      ],
      "execution_count": 17,
      "outputs": [
        {
          "output_type": "stream",
          "name": "stdout",
          "text": [
            "pdf and cdf is:  0.1319413953331201 0.16712576742195212\n"
          ]
        }
      ]
    },
    {
      "cell_type": "markdown",
      "metadata": {
        "id": "0TE4eYqrM6Sc"
      },
      "source": [
        "2. Write python code to get pdf and cdf of poisson distribution."
      ]
    },
    {
      "cell_type": "code",
      "metadata": {
        "id": "96MhwalxNBZn",
        "outputId": "a8d43310-02ff-4b16-f7dd-a58ffe628790",
        "colab": {
          "base_uri": "https://localhost:8080/"
        }
      },
      "source": [
        "import math\n",
        "\n",
        "x = 5;\n",
        "l = 2;\n",
        "pdf = (math.exp(-l) * math.pow(l, x))/math.factorial(x);\n",
        "cdf = 0;\n",
        "for i in range(x+1):\n",
        "  cdf = cdf + (math.exp(-l) * math.pow(l, i))/fact(i);\n",
        "\n",
        "print(\"pdf and cdf is: \", pdf, cdf);"
      ],
      "execution_count": 28,
      "outputs": [
        {
          "output_type": "stream",
          "name": "stdout",
          "text": [
            "pdf and cdf is:  0.03608940886309672 0.9834363915193857\n"
          ]
        }
      ]
    },
    {
      "cell_type": "markdown",
      "metadata": {
        "id": "C-JILDcWNBvD"
      },
      "source": [
        "3. Write python code to get pdf and cdf of geometric distribution."
      ]
    },
    {
      "cell_type": "code",
      "metadata": {
        "id": "fU7d5J5eNofD",
        "outputId": "a1f38723-46e4-404e-9cf7-a42a252d1df4",
        "colab": {
          "base_uri": "https://localhost:8080/"
        }
      },
      "source": [
        "import math\n",
        "\n",
        "k=2;\n",
        "p=0.5;\n",
        "pdf = p * math.pow(1 - p, k-1);\n",
        "cdf1 = 1 - math.pow(1 - p, k);\n",
        "cdf2 = math.pow(1 - p, k-1);\n",
        "print(\"pdf: p(x = k) \", pdf);\n",
        "print(\"cdf: p(x >= k)\", cdf2);\n",
        "print(\"cdf: p(x <= k)\", cdf1);"
      ],
      "execution_count": 29,
      "outputs": [
        {
          "output_type": "stream",
          "name": "stdout",
          "text": [
            "pdf: p(x = k)  0.25\n",
            "cdf: p(x >= k) 0.5\n",
            "cdf: p(x <= k) 0.75\n"
          ]
        }
      ]
    },
    {
      "cell_type": "markdown",
      "metadata": {
        "id": "QdS9bmDcNo26"
      },
      "source": [
        "4.  Write python code to get pdf and cdf of negative binomial distribution."
      ]
    },
    {
      "cell_type": "code",
      "metadata": {
        "id": "lgeoaPSiN3DI",
        "outputId": "db9bcadd-ab73-4ecc-9038-e5e2db8b4d21",
        "colab": {
          "base_uri": "https://localhost:8080/"
        }
      },
      "source": [
        "import math\n",
        "\n",
        "def nCr(n, r):\n",
        "    return (fact(n) / (fact(r)* fact(n - r)));\n",
        "\n",
        "def fact(n):\n",
        "    res = 1;\n",
        "    for i in range(2, n+1):\n",
        "        res = res * i;  \n",
        "    return res;\n",
        "\n",
        "k = 15;\n",
        "p = 0.2;\n",
        "r = 5; \n",
        "pdf = nCr(k-1, r-1) * math.pow(p, r) * math.pow(1 - p, k - r);\n",
        "cdf = 0;\n",
        "for j in range(r, k):\n",
        "  cdf = cdf + (nCr(j-1, r-1) * math.pow(p, r) * math.pow(1 - p, j-r));\n",
        "print(\"pdf: \", pdf);\n",
        "print(\"cdf: p(x <= k)\", cdf);"
      ],
      "execution_count": 47,
      "outputs": [
        {
          "output_type": "stream",
          "name": "stdout",
          "text": [
            "pdf:  0.03439409810636803\n",
            "cdf: p(x <= k) 0.12983962583040007\n"
          ]
        }
      ]
    },
    {
      "cell_type": "markdown",
      "metadata": {
        "id": "pantd7TqN3Y6"
      },
      "source": [
        "5. Write python code to get pdf and cdf of hyper-geometric distribution."
      ]
    },
    {
      "cell_type": "code",
      "metadata": {
        "id": "psiUS-LPN5iK",
        "outputId": "3b557475-1ff2-4e8d-d337-dc889ad8e57c",
        "colab": {
          "base_uri": "https://localhost:8080/"
        }
      },
      "source": [
        "import math\n",
        "\n",
        "def nCr(n, r):\n",
        "    return (fact(n) / (fact(r)* fact(n - r)));\n",
        "\n",
        "def fact(n):\n",
        "    res = 1;\n",
        "    for i in range(2, n+1):\n",
        "        res = res * i;  \n",
        "    return res;\n",
        "\n",
        "x = 2;\n",
        "N = 52;\n",
        "n = 5; \n",
        "k = 13;\n",
        "pdf = (nCr(k, x) * nCr(N-k, n-x))/nCr(N, n);\n",
        "cdf = 0;\n",
        "for j in range(x+1):\n",
        "  cdf = cdf + (nCr(k, j) * nCr(N-k, n-j))/nCr(N, n);\n",
        "print(\"pdf: \", pdf);\n",
        "print(\"cdf: p(x <= 2)\", cdf);"
      ],
      "execution_count": 46,
      "outputs": [
        {
          "output_type": "stream",
          "name": "stdout",
          "text": [
            "pdf:  0.2742797118847539\n",
            "cdf: p(x <= 2) 0.9072328931572629\n"
          ]
        }
      ]
    },
    {
      "cell_type": "markdown",
      "metadata": {
        "id": "IzLinuIgN6Dx"
      },
      "source": [
        "6. Write python code to get pdf and cdf of normal distribution."
      ]
    },
    {
      "cell_type": "code",
      "metadata": {
        "id": "mrOPcQaHOIQ6",
        "outputId": "697e4a92-a37b-43f3-df90-1aa61f9d66fb",
        "colab": {
          "base_uri": "https://localhost:8080/"
        }
      },
      "source": [
        "import math\n",
        "\n",
        "x = 3;\n",
        "sigma = 3;\n",
        "meu = 5;\n",
        "π = 3.14;\n",
        "pdf = math.exp(- (math.pow((x - meu), 2)) / (2 * math.pow(sigma, 2)));\n",
        "t = (sigma * math.sqrt(2 * π));\n",
        "print(\"pdf: \", pdf/t);"
      ],
      "execution_count": 5,
      "outputs": [
        {
          "output_type": "stream",
          "name": "stdout",
          "text": [
            "pdf:  0.10650966986176175\n"
          ]
        }
      ]
    },
    {
      "cell_type": "markdown",
      "metadata": {
        "id": "qrmyKTEcOIqB"
      },
      "source": [
        "7. Write python code to get pdf and cdf of exponential distribution.\n"
      ]
    },
    {
      "cell_type": "code",
      "metadata": {
        "id": "XyB4Kjc7OZhF",
        "outputId": "cc22344e-e11c-4bc2-f729-89fc0408405a",
        "colab": {
          "base_uri": "https://localhost:8080/"
        }
      },
      "source": [
        "import math\n",
        "\n",
        "Lambda = 4;\n",
        "x = 1;\n",
        "pdf = Lambda * math.exp(-(Lambda*x));\n",
        "cdf = 1 - math.exp(-(Lambda*x));\n",
        "print(\"pdf and cdf is: \", pdf, cdf);\n"
      ],
      "execution_count": 58,
      "outputs": [
        {
          "output_type": "stream",
          "name": "stdout",
          "text": [
            "pdf and cdf is:  0.07326255555493671 0.9816843611112658\n"
          ]
        }
      ]
    },
    {
      "cell_type": "markdown",
      "metadata": {
        "id": "VeKSP_gjOZ38"
      },
      "source": [
        "8. Write python code to get pdf and cdf of uniform distribution."
      ]
    },
    {
      "cell_type": "code",
      "metadata": {
        "id": "wX1uj06iOcuy",
        "outputId": "a98e82d1-39fa-4bdf-aa31-927e7ef3250e",
        "colab": {
          "base_uri": "https://localhost:8080/"
        }
      },
      "source": [
        "\n",
        "A = 3;\n",
        "B = 8;\n",
        "x = 5\n",
        "pdf = 1/(B - A);\n",
        "print(\"pdf = f(x) = 1/(B - A) = \",pdf);\n",
        "cdf = (x - A)/(B - A);\n",
        "print(\"cdf = f(x) = (x - A)/(B - A) = \",cdf);"
      ],
      "execution_count": 57,
      "outputs": [
        {
          "output_type": "stream",
          "name": "stdout",
          "text": [
            "pdf = f(x) = 1/(B - A) =  0.2\n",
            "cdf = f(x) = (x - A)/(B - A) =  0.4\n"
          ]
        }
      ]
    }
  ]
}