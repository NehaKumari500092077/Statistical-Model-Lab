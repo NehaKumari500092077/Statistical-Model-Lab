{
  "nbformat": 4,
  "nbformat_minor": 0,
  "metadata": {
    "accelerator": "GPU",
    "colab": {
      "name": "l01c01_introduction_to_colab_and_python.ipynb",
      "provenance": [],
      "collapsed_sections": [],
      "toc_visible": true
    },
    "kernelspec": {
      "display_name": "Python 3",
      "name": "python3"
    }
  },
  "cells": [
    {
      "cell_type": "markdown",
      "metadata": {
        "id": "3D65QDDdYMsZ"
      },
      "source": [
        "**Experiment 1: What is the probability of getting heads exactly 3 times if you flip a fair coin 6 times?**"
      ]
    },
    {
      "cell_type": "code",
      "metadata": {
        "id": "LiQYnnxmYq3n",
        "outputId": "f9460841-b314-41bd-f0ef-8e6f0a29419a",
        "colab": {
          "base_uri": "https://localhost:8080/"
        }
      },
      "source": [
        "from scipy.stats import binom\n",
        "n=6;\n",
        "r=3;\n",
        "p = 0.5;\n",
        "result = binom.pmf(r, n, p);\n",
        "print(\"probability: \",round(result,4));"
      ],
      "execution_count": 57,
      "outputs": [
        {
          "output_type": "stream",
          "name": "stdout",
          "text": [
            "probability:  0.3125\n"
          ]
        }
      ]
    },
    {
      "cell_type": "markdown",
      "metadata": {
        "id": "VWLI6PJUdYba"
      },
      "source": [
        "**Experiment 2: You are a telemarketer with a 10% chance of persuading a randomly selected person to switch to your long-distance company. You make 8 calls. What is the probability that exactly one is successful?**"
      ]
    },
    {
      "cell_type": "code",
      "metadata": {
        "id": "CITGXSPfdhR9",
        "outputId": "67711082-9912-408c-8c7e-bdd5148b828f",
        "colab": {
          "base_uri": "https://localhost:8080/"
        }
      },
      "source": [
        "from scipy.stats import binom\n",
        "n=8;\n",
        "r=1;\n",
        "p=.1;\n",
        "result = binom.pmf(r, n, p);\n",
        "print(\"probability: \",round(result,4));"
      ],
      "execution_count": 56,
      "outputs": [
        {
          "output_type": "stream",
          "name": "stdout",
          "text": [
            "probability:  0.3826\n"
          ]
        }
      ]
    },
    {
      "cell_type": "markdown",
      "metadata": {
        "id": "8EOOWGgEdtyJ"
      },
      "source": [
        "**Experiment 3: Ten percent of computer parts produced by a certain supplier are defective. What is the probability that a sample of 10 parts contains more than 3 defective ones?**"
      ]
    },
    {
      "cell_type": "code",
      "metadata": {
        "id": "F8g988IAdzkK",
        "outputId": "68ed0b48-cbc5-404f-fc81-10aaa5640787",
        "colab": {
          "base_uri": "https://localhost:8080/"
        }
      },
      "source": [
        "from scipy.stats import binom\n",
        "\n",
        "n = 10;\n",
        "r = 3;\n",
        "p = 0.1;\n",
        "result = 0;\n",
        "r_values = list(range(r + 1));\n",
        "pd = [binom.pmf(i, n, p) for i in r_values ]\n",
        "for i in range(r + 1):\n",
        "  result = result + pd[i];\n",
        "\n",
        "print(\"probability: \",round((1-result),4));\n"
      ],
      "execution_count": 58,
      "outputs": [
        {
          "output_type": "stream",
          "name": "stdout",
          "text": [
            "probability:  0.0128\n"
          ]
        }
      ]
    },
    {
      "cell_type": "markdown",
      "metadata": {
        "id": "1z3lbKmNd2aC"
      },
      "source": [
        "**Experiment 4: Recent reports suggest that only 20% of Indians are ready** **for changes to the medicare system. A random sample of 12 Indians is obtained. Find the probabilities that, for this random sample,**\n",
        "\n"
      ]
    },
    {
      "cell_type": "markdown",
      "metadata": {
        "id": "epaItp1Jo0l3"
      },
      "source": [
        "(i)**exactly 2 are for such changes;**"
      ]
    },
    {
      "cell_type": "code",
      "metadata": {
        "id": "LbVP1obOeUpN",
        "outputId": "d3dbdacf-b72b-42ac-9f73-f684baec2ff7",
        "colab": {
          "base_uri": "https://localhost:8080/"
        }
      },
      "source": [
        "from scipy.stats import binom\n",
        "\n",
        "n = 12;\n",
        "r = 2;\n",
        "p = 0.2;\n",
        "result = binom.pmf(r, n, p);\n",
        "\n",
        "print(\"probability: \",round(result,4));"
      ],
      "execution_count": 53,
      "outputs": [
        {
          "output_type": "stream",
          "name": "stdout",
          "text": [
            "probability:  0.2835\n"
          ]
        }
      ]
    },
    {
      "cell_type": "markdown",
      "metadata": {
        "id": "moznWqw3q3wr"
      },
      "source": [
        "(ii)**at most 2 are for such changes;**"
      ]
    },
    {
      "cell_type": "code",
      "metadata": {
        "id": "rbLywZAaq_Xx",
        "outputId": "6b4aa6ec-4fe7-4286-865d-28c18543bae9",
        "colab": {
          "base_uri": "https://localhost:8080/"
        }
      },
      "source": [
        "from scipy.stats import binom\n",
        "\n",
        "n = 12;\n",
        "r = 2;\n",
        "p = 0.2;\n",
        "result = 0;\n",
        "r_values = list(range(r + 1));\n",
        "pd = [binom.pmf(i, n, p) for i in r_values ]\n",
        "for i in range(r + 1):\n",
        "  result = result + pd[i];\n",
        "\n",
        "print(\"probability: \",round(result,4));"
      ],
      "execution_count": 54,
      "outputs": [
        {
          "output_type": "stream",
          "name": "stdout",
          "text": [
            "probability:  0.5583\n"
          ]
        }
      ]
    },
    {
      "cell_type": "markdown",
      "metadata": {
        "id": "BA1zAcp5sEPx"
      },
      "source": [
        "(iii)**more than two are for such changes;**"
      ]
    },
    {
      "cell_type": "code",
      "metadata": {
        "id": "41dkE8KssSEi",
        "outputId": "b7bfd5a7-a89b-4dc5-b5ad-d146c2a4da23",
        "colab": {
          "base_uri": "https://localhost:8080/"
        }
      },
      "source": [
        "from scipy.stats import binom\n",
        "\n",
        "n = 12;\n",
        "r = 2;\n",
        "p = 0.2;\n",
        "result = 0;\n",
        "r_values = list(range(r + 1));\n",
        "pd = [binom.pmf(i, n, p) for i in r_values ]\n",
        "for i in range(r + 1):\n",
        "  result = result + pd[i];\n",
        "  \n",
        "print(\"probability: \",round((1-result),4));"
      ],
      "execution_count": 55,
      "outputs": [
        {
          "output_type": "stream",
          "name": "stdout",
          "text": [
            "probability:  0.4417\n"
          ]
        }
      ]
    },
    {
      "cell_type": "markdown",
      "metadata": {
        "id": "aDCY2GRAe33K"
      },
      "source": [
        "Experiment 5: Your name is Akshat and you are an expert penalty goal shooter. Your success rate has been measured at 80%. Thus, p = 0.8 and \n",
        "q = 0.2. You take n = 10 shots on goal, so the possible values of X (the number of successes) are 0, 1, 2, 3, 4, 5,………….., 10. Calculate the probability for each value of X. Plot the probability distribution and cumulative probability distribution. "
      ]
    },
    {
      "cell_type": "code",
      "metadata": {
        "id": "Fg9bnTZRfeKe",
        "outputId": "7302221f-6240-4bfd-e569-8acb318ff59d",
        "colab": {
          "base_uri": "https://localhost:8080/",
          "height": 782
        }
      },
      "source": [
        "from scipy.stats import binom\n",
        "import matplotlib.pyplot as plt\n",
        "\n",
        "n = 10;\n",
        "p = 0.8;\n",
        "r_values = list(range(n + 1));\n",
        "pd = [binom.pmf(i, n, p) for i in r_values ];\n",
        "\n",
        "print(\"X\" + \"\\t\" + \"Probability\");\n",
        "for i in range(n + 1):\n",
        "  print(str(r_values[i]) + \"\\t\" + str(pd[i]));\n",
        "\n",
        "cd = [];\n",
        "for i in range(n+1):\n",
        "  cd.append(0);\n",
        "for i in range(n+1):\n",
        "  for j in range(i+1):\n",
        "    cd[i] = cd[i]+pd[j];\n",
        "\n",
        "print(\"\\nprobability distribution\");\n",
        "plt.bar(r_values, pd);\n",
        "plt.show();\n",
        "print(\"\\ncumulative probability distribution\");\n",
        "plt.bar(r_values, cd);\n",
        "plt.show();"
      ],
      "execution_count": 42,
      "outputs": [
        {
          "output_type": "stream",
          "name": "stdout",
          "text": [
            "X\tProbability\n",
            "0\t1.0240000000000004e-07\n",
            "1\t4.096000000000007e-06\n",
            "2\t7.372799999999991e-05\n",
            "3\t0.0007864319999999992\n",
            "4\t0.005505024000000001\n",
            "5\t0.02642411520000004\n",
            "6\t0.08808038400000004\n",
            "7\t0.20132659200000014\n",
            "8\t0.301989888\n",
            "9\t0.26843545600000035\n",
            "10\t0.10737418240000005\n",
            "\n",
            "probability distribution\n"
          ]
        },
        {
          "output_type": "display_data",
          "data": {
            "image/png": "[encoded data removed]",
            "text/plain": [
              "<Figure size 432x288 with 1 Axes>"
            ]
          },
          "metadata": {
            "needs_background": "light"
          }
        },
        {
          "output_type": "stream",
          "name": "stdout",
          "text": [
            "\n",
            "cumulative probability distribution\n"
          ]
        },
        {
          "output_type": "display_data",
          "data": {
            "image/png": "[encoded data removed]",
            "text/plain": [
              "<Figure size 432x288 with 1 Axes>"
            ]
          },
          "metadata": {
            "needs_background": "light"
          }
        }
      ]
    }
  ]
}