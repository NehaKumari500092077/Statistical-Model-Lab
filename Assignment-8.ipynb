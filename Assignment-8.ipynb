{
  "nbformat": 4,
  "nbformat_minor": 0,
  "metadata": {
    "colab": {
      "name": "Welcome To Colaboratory",
      "provenance": [],
      "collapsed_sections": [],
      "toc_visible": true,
      "include_colab_link": true
    },
    "kernelspec": {
      "display_name": "Python 3",
      "name": "python3"
    }
  },
  "cells": [
    {
      "cell_type": "markdown",
      "metadata": {
        "id": "view-in-github",
        "colab_type": "text"
      },
      "source": [
        "<a href=\"https://colab.research.google.com/github/NehaKumari500092077/Statistical-Model-Lab/blob/main/Assignment-8.ipynb\" target=\"_parent\"><img src=\"https://colab.research.google.com/assets/colab-badge.svg\" alt=\"Open In Colab\"/></a>"
      ]
    },
    {
      "cell_type": "markdown",
      "metadata": {
        "id": "m-OyYOKXaogF"
      },
      "source": [
        ""
      ]
    },
    {
      "cell_type": "code",
      "metadata": {
        "id": "4IFoT72xaqVX",
        "outputId": "4ceb9db3-5f90-49b2-fbb0-eaab0ece79dc",
        "colab": {
          "base_uri": "https://localhost:8080/"
        }
      },
      "source": [
        "from statsmodels.stats.weightstats import ztest as ztest\n",
        "data = [1.8,1.6,2.6,2.7,2.8,2.2,1.2,3.2,1.5,1.6,1.6,2.0,3.0,1.5,1.4,2.2,1.9,1.8,1.9,1.8,1.7,1.6,1.2,1.9,2.0,2.0,1.8,1.9,1.8,1.7,1.6,1.2,1.9,2.0,2.0,1.8,1.9,1.8,1.7,1.6,1.2,1.9,2.0,2.0]\n",
        "score,result=ztest(data, value=2)\n",
        "print(float(result))\n",
        "if result>0.05:\n",
        "  print(\"reject null hypothesis\")\n",
        "else:\n",
        "  print(\"accept null hypothesis \")"
      ],
      "execution_count": 9,
      "outputs": [
        {
          "output_type": "stream",
          "name": "stdout",
          "text": [
            "0.05946950435035147\n",
            "reject null hypothesis\n"
          ]
        }
      ]
    },
    {
      "cell_type": "code",
      "metadata": {
        "id": "rhU0eiwtfHaD",
        "outputId": "d2d8a1d8-e2c8-45c6-a77a-4263d4d1acfc",
        "colab": {
          "base_uri": "https://localhost:8080/"
        }
      },
      "source": [
        "from statsmodels.stats.weightstats import ztest as ztest\n",
        "varietyA=[23,24,25,23,22,24,23,23,26,21,22,23,24,20,25,23,22,23,24,25,23,22,24,23,23,26,21,22,23,24,20,25,23,22,23,24,25,23,22,24,23,23,26,21,22,23,24,20,25,23,22]\n",
        "varietyB=[20,19,18,18,22,20,19,18,18,22,21,22,21,18,23,23,22,20,21,20,21,19,19,21,22,21,18,23,23,22,20,21,20,21,19,19,20,19,18,18,22,21,22,21,18,23,23,22,20,21,20]\n",
        "meanA=sum(varietyA)/len(varietyA)\n",
        "meanB=sum(varietyB)/len(varietyB)\n",
        "diffMean=meanA-meanB\n",
        "score,result=ztest(varietyA,varietyB,value=round(diffMean))\n",
        "print(float(result))\n",
        "if result<0.05:\n",
        "  print(\"reject null hypothesis\")\n",
        "else:\n",
        "  print(\"accept null hypothesis\") \n"
      ],
      "execution_count": 8,
      "outputs": [
        {
          "output_type": "stream",
          "name": "stdout",
          "text": [
            "0.30829871605929005\n",
            "accept null hypothesis\n"
          ]
        }
      ]
    }
  ]
}