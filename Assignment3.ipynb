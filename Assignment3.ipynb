{
  "nbformat": 4,
  "nbformat_minor": 0,
  "metadata": {
    "colab": {
      "name": "colab-github-demo.ipynb",
      "provenance": [],
      "collapsed_sections": [],
      "include_colab_link": true
    },
    "kernelspec": {
      "display_name": "Python 3",
      "name": "python3"
    }
  },
  "cells": [
    {
      "cell_type": "markdown",
      "metadata": {
        "id": "view-in-github",
        "colab_type": "text"
      },
      "source": [
        "<a href=\"https://colab.research.google.com/github/NehaKumari500092077/Statistical-Model-Lab/blob/main/Assignment3.ipynb\" target=\"_parent\"><img src=\"https://colab.research.google.com/assets/colab-badge.svg\" alt=\"Open In Colab\"/></a>"
      ]
    },
    {
      "cell_type": "markdown",
      "metadata": {
        "id": "q0hsW7feTwfP"
      },
      "source": [
        "1) The average number of homes sold by the Acme Realty company is 2 homes per day. What is the probability that exactly 3 homes will be sold tomorrow?"
      ]
    },
    {
      "cell_type": "code",
      "metadata": {
        "id": "jv1xlMYmVgz9",
        "outputId": "b96c0a1d-d367-469b-a0d2-94e86a992a0a",
        "colab": {
          "base_uri": "https://localhost:8080/"
        }
      },
      "source": [
        "from scipy.stats import poisson\n",
        "mu=2;\n",
        "event=3;\n",
        "result = poisson.pmf(event, mu);\n",
        "print(\"probability: \",round(result,4));"
      ],
      "execution_count": 2,
      "outputs": [
        {
          "output_type": "stream",
          "name": "stdout",
          "text": [
            "probability:  0.1804\n"
          ]
        }
      ]
    },
    {
      "cell_type": "markdown",
      "metadata": {
        "id": "RCfao_ofVhPd"
      },
      "source": [
        "2) Suppose the average number of lions seen on a 1-day safari is 5. What is the probability that tourists will see fewer than four lions on the next 1-day safari?"
      ]
    },
    {
      "cell_type": "code",
      "metadata": {
        "id": "qnBzdyukXzxe",
        "outputId": "9a667a70-7fd6-4ea7-9329-9486282bcba2",
        "colab": {
          "base_uri": "https://localhost:8080/"
        }
      },
      "source": [
        "from scipy.stats import poisson\n",
        "mu=5;\n",
        "event=4;\n",
        "x = list(range(event));\n",
        "pd = [poisson.pmf(i, mu) for i in x ]\n",
        "for i in range(event):\n",
        "  result = result + pd[i];\n",
        "\n",
        "print(\"probability: \",round(result,4));"
      ],
      "execution_count": 4,
      "outputs": [
        {
          "output_type": "stream",
          "name": "stdout",
          "text": [
            "probability:  0.7105\n"
          ]
        }
      ]
    },
    {
      "cell_type": "markdown",
      "metadata": {
        "id": "VQT1frVfZyKy"
      },
      "source": [
        "4) Product produced by a machine has a 3% defective rate. What is the probability that the first defective occurs in the fifth item inspected?"
      ]
    },
    {
      "cell_type": "code",
      "metadata": {
        "id": "GJIIYCRuaThU",
        "outputId": "799a7600-4e0b-40dc-dc88-92f08cd15a10",
        "colab": {
          "base_uri": "https://localhost:8080/"
        }
      },
      "source": [
        "from scipy.stats import geom\n",
        "p=0.03;\n",
        "x=5;\n",
        "result = geom.pmf(x, p);\n",
        "print(\"probability: \",round(result,4));"
      ],
      "execution_count": 5,
      "outputs": [
        {
          "output_type": "stream",
          "name": "stdout",
          "text": [
            "probability:  0.0266\n"
          ]
        }
      ]
    },
    {
      "cell_type": "markdown",
      "metadata": {
        "id": "xwJI19EHbTkp"
      },
      "source": [
        "3) A life insurance salesman sells on the average 3 life insurence policies per week. Use Poisson's law to calculate the probability that in a given week he will sell\n",
        "i) Some policies."
      ]
    },
    {
      "cell_type": "code",
      "metadata": {
        "id": "JwHf3xsSb_9G",
        "outputId": "07946de5-a146-4e52-fa9f-013692d373eb",
        "colab": {
          "base_uri": "https://localhost:8080/"
        }
      },
      "source": [
        "from scipy.stats import poisson\n",
        "mu=3;\n",
        "event=0;\n",
        "pd = poisson.pmf(event, mu);\n",
        "result = 1 - pd\n",
        "\n",
        "print(\"probability: \",round(result,4));"
      ],
      "execution_count": 38,
      "outputs": [
        {
          "output_type": "stream",
          "name": "stdout",
          "text": [
            "probability:  0.9502\n"
          ]
        }
      ]
    },
    {
      "cell_type": "markdown",
      "metadata": {
        "id": "Vfyuusg1cBfm"
      },
      "source": [
        "ii) 2 or more policies but less than 5 policies."
      ]
    },
    {
      "cell_type": "code",
      "metadata": {
        "id": "YUyb2jcVcLq0",
        "outputId": "2d2e30c3-56c2-4e2b-a576-5c87cab886e2",
        "colab": {
          "base_uri": "https://localhost:8080/"
        }
      },
      "source": [
        "from scipy.stats import poisson\n",
        "mu=3;\n",
        "event=5;\n",
        "x = list(range(event));\n",
        "del x[0 : 2];\n",
        "pd = [poisson.pmf(i, mu) for i in x ];\n",
        "for i in range(event-2):\n",
        "  result = result + pd[i];\n",
        "  print(pd[i])\n",
        "\n",
        "print(\"probability: \",round(result,4));\n",
        "\n",
        "probability: 0.61611"
      ],
      "execution_count": 57,
      "outputs": [
        {
          "output_type": "stream",
          "name": "stdout",
          "text": [
            "0.22404180765538775\n",
            "0.22404180765538775\n",
            "0.16803135574154085\n",
            "probability:  3.8628\n"
          ]
        }
      ]
    },
    {
      "cell_type": "markdown",
      "metadata": {
        "id": "NuILwJeHcMKw"
      },
      "source": [
        "iii) Assuming that there are 5 working days per week, what is the probability that in a given day he will sell one policy?"
      ]
    },
    {
      "cell_type": "code",
      "metadata": {
        "id": "mJeILi7JlgWn",
        "outputId": "6c1611e1-386c-402b-e743-6e0b84d46826",
        "colab": {
          "base_uri": "https://localhost:8080/"
        }
      },
      "source": [
        "from scipy.stats import poisson\n",
        "mu=3/5;\n",
        "event=1;\n",
        "pd = poisson.pmf(event, mu);\n",
        "\n",
        "print(\"probability: \",round(pd,4));"
      ],
      "execution_count": 39,
      "outputs": [
        {
          "output_type": "stream",
          "name": "stdout",
          "text": [
            "probability:  0.3293\n"
          ]
        }
      ]
    },
    {
      "cell_type": "markdown",
      "metadata": {
        "id": "ju1gBkCvcp0u"
      },
      "source": [
        "iv) plot the pmf and cdf"
      ]
    },
    {
      "cell_type": "code",
      "metadata": {
        "id": "nlaRKxWfcwfV",
        "outputId": "dba5fa8f-e7f2-482b-e672-225493797e15",
        "colab": {
          "base_uri": "https://localhost:8080/",
          "height": 580
        }
      },
      "source": [
        "import matplotlib.pyplot as plt\n",
        "from scipy.stats import poisson\n",
        "\n",
        "mu=3;\n",
        "event=5;\n",
        "x = list(range(event));\n",
        "del x[0 : 2];\n",
        "\n",
        "pd = [poisson.pmf(i, mu) for i in x ];\n",
        "cd = [poisson.cdf(i, mu) for i in x ];\n",
        "print(\"\\nprobability distribution\");\n",
        "plt.bar(x, pd);\n",
        "plt.show();\n",
        "print(\"\\ncumulative probability distribution\");\n",
        "plt.bar(x, cd);\n",
        "plt.show();\n",
        "\n",
        "\n",
        "\n"
      ],
      "execution_count": 52,
      "outputs": [
        {
          "output_type": "stream",
          "name": "stdout",
          "text": [
            "\n",
            "probability distribution\n"
          ]
        },
        {
          "output_type": "display_data",
          "data": {
            "image/png": "[encoded data removed]",
            "text/plain": [
              "<Figure size 432x288 with 1 Axes>"
            ]
          },
          "metadata": {
            "needs_background": "light"
          }
        },
        {
          "output_type": "stream",
          "name": "stdout",
          "text": [
            "\n",
            "cumulative probability distribution\n"
          ]
        },
        {
          "output_type": "display_data",
          "data": {
            "image/png": "[encoded data removed]",
            "text/plain": [
              "<Figure size 432x288 with 1 Axes>"
            ]
          },
          "metadata": {
            "needs_background": "light"
          }
        }
      ]
    },
    {
      "cell_type": "markdown",
      "metadata": {
        "id": "SqdJZMYLcxAp"
      },
      "source": [
        "5) In a amusement fair, a competitor is entitled for a prize if he throw a ring on a peg from a certain distance. it is observed that only 30% of the competitors are able to do this. If someone is given 5 chances, \n",
        "i) what is the probability of his winning the prize when he has already missed 4 chances? "
      ]
    },
    {
      "cell_type": "code",
      "metadata": {
        "id": "hzdopFLDqnQZ",
        "outputId": "d39085cc-8c46-4654-c972-340092da2d0b",
        "colab": {
          "base_uri": "https://localhost:8080/"
        }
      },
      "source": [
        "from scipy.stats import geom\n",
        "p=0.3;\n",
        "x=5;\n",
        "pd = geom.pmf(x,p);\n",
        "\n",
        "print(\"probability: \",round(pd,4));"
      ],
      "execution_count": 60,
      "outputs": [
        {
          "output_type": "stream",
          "name": "stdout",
          "text": [
            "probability:  0.072\n"
          ]
        }
      ]
    },
    {
      "cell_type": "markdown",
      "metadata": {
        "id": "0B7DSoJNrvfY"
      },
      "source": [
        "ii) Plot the pmf and cdf. for X=1,2,..........,10."
      ]
    },
    {
      "cell_type": "code",
      "metadata": {
        "id": "eQiFBzUxryaL",
        "outputId": "92951066-2d3b-4584-80f9-64059434c142",
        "colab": {
          "base_uri": "https://localhost:8080/",
          "height": 597
        }
      },
      "source": [
        "import matplotlib.pyplot as plt\n",
        "from scipy.stats import geom\n",
        "\n",
        "p=0.3;\n",
        "x=10;\n",
        "x = list(range(x+1));\n",
        "del x[0 : 1];\n",
        "gd = [geom.pmf(i, p) for i in x ];\n",
        "cd = [geom.cdf(i, p) for i in x ];\n",
        "print(\"\\nprobability distribution\");\n",
        "plt.bar(x, gd);\n",
        "plt.show();\n",
        "print(\"\\ncumulative probability distribution\");\n",
        "plt.bar(x, cd);\n",
        "plt.show();"
      ],
      "execution_count": 63,
      "outputs": [
        {
          "output_type": "stream",
          "name": "stdout",
          "text": [
            "[1, 2, 3, 4, 5, 6, 7, 8, 9, 10]\n",
            "\n",
            "probability distribution\n"
          ]
        },
        {
          "output_type": "display_data",
          "data": {
            "image/png": "[encoded data removed]",
            "text/plain": [
              "<Figure size 432x288 with 1 Axes>"
            ]
          },
          "metadata": {
            "needs_background": "light"
          }
        },
        {
          "output_type": "stream",
          "name": "stdout",
          "text": [
            "\n",
            "cumulative probability distribution\n"
          ]
        },
        {
          "output_type": "display_data",
          "data": {
            "image/png": "[encoded data removed]",
            "text/plain": [
              "<Figure size 432x288 with 1 Axes>"
            ]
          },
          "metadata": {
            "needs_background": "light"
          }
        }
      ]
    }
  ]
}