{
  "nbformat": 4,
  "nbformat_minor": 0,
  "metadata": {
    "colab": {
      "name": "Welcome To Colaboratory",
      "provenance": [],
      "collapsed_sections": [],
      "toc_visible": true,
      "include_colab_link": true
    },
    "kernelspec": {
      "display_name": "Python 3",
      "name": "python3"
    }
  },
  "cells": [
    {
      "cell_type": "markdown",
      "metadata": {
        "id": "view-in-github",
        "colab_type": "text"
      },
      "source": [
        "<a href=\"https://colab.research.google.com/github/NehaKumari500092077/Statistical-Model-Lab/blob/main/Assignment4.ipynb\" target=\"_parent\"><img src=\"https://colab.research.google.com/assets/colab-badge.svg\" alt=\"Open In Colab\"/></a>"
      ]
    },
    {
      "cell_type": "markdown",
      "metadata": {
        "id": "WsWNN03aadCu"
      },
      "source": [
        "1. Robert is a football player. His success rate of goal hitting is 70%. What is the probability that\n",
        "Robert hits his third goal on his fifth attempt?"
      ]
    },
    {
      "cell_type": "code",
      "metadata": {
        "id": "DOjy8e7datSh",
        "outputId": "e7e7f18d-1e59-492e-ce4e-e2feeb57961d",
        "colab": {
          "base_uri": "https://localhost:8080/"
        }
      },
      "source": [
        "from scipy.stats import nbinom\n",
        "n = 3;\n",
        "p = 0.7;\n",
        "x = 5 - n;\n",
        "mean, var = nbinom.stats(n, p);\n",
        "result = nbinom.pmf(x, n, p);\n",
        "print(\"probability: \",round(result,4));"
      ],
      "execution_count": 9,
      "outputs": [
        {
          "output_type": "stream",
          "name": "stdout",
          "text": [
            "probability:  0.1852\n"
          ]
        }
      ]
    },
    {
      "cell_type": "markdown",
      "metadata": {
        "id": "KV2mLjsCauYv"
      },
      "source": [
        "2. You are surveying people exiting from a polling booth and asking them if they voted\n",
        "independent. The probability (p) that a person voted independent is 20%. What is the\n",
        "probability that 15 people must be asked before you can find 5 people who voted\n",
        "independent?"
      ]
    },
    {
      "cell_type": "code",
      "metadata": {
        "id": "mppc_MgOazU6",
        "outputId": "80ba303c-01b6-468f-fd7d-e6353fea206f",
        "colab": {
          "base_uri": "https://localhost:8080/"
        }
      },
      "source": [
        "from scipy.stats import nbinom\n",
        "n = 5;\n",
        "p = 0.2;\n",
        "x = 15 - n;\n",
        "mean, var = nbinom.stats(n, p);\n",
        "result = nbinom.pmf(x, n, p);\n",
        "print(\"probability: \",round(result,4));"
      ],
      "execution_count": 8,
      "outputs": [
        {
          "output_type": "stream",
          "name": "stdout",
          "text": [
            "probability:  0.0344\n"
          ]
        }
      ]
    },
    {
      "cell_type": "markdown",
      "metadata": {
        "id": "AKvKBoniaz1S"
      },
      "source": [
        "3. The Saina Nehwal is having a bad year. Suppose her ability to win any one game is 42% and\n",
        "games are independent of one another. What is the probability it takes 14 games for them to\n",
        "win their fourth game?"
      ]
    },
    {
      "cell_type": "code",
      "metadata": {
        "id": "Izbjm2sqa4Nt",
        "outputId": "382e1f10-b0d4-43cf-e626-d71760d0ea74",
        "colab": {
          "base_uri": "https://localhost:8080/"
        }
      },
      "source": [
        "from scipy.stats import nbinom\n",
        "n = 4;\n",
        "p = 0.42;\n",
        "x = 14 - n;\n",
        "mean, var = nbinom.stats(n, p);\n",
        "result = nbinom.pmf(x, n, p);\n",
        "print(\"probability: \",round(result,4));"
      ],
      "execution_count": 10,
      "outputs": [
        {
          "output_type": "stream",
          "name": "stdout",
          "text": [
            "probability:  0.0383\n"
          ]
        }
      ]
    },
    {
      "cell_type": "markdown",
      "metadata": {
        "id": "YJKlbTVBa4zQ"
      },
      "source": [
        "4. A deck of cards contains 20 cards: 6 red cards and 14 black cards. 5 cards are drawn\n",
        "randomly without replacement. What is the probability that exactly 4 red cards are drawn?"
      ]
    },
    {
      "cell_type": "code",
      "metadata": {
        "id": "s0eG-45qa9on",
        "outputId": "924cbebf-a100-4963-ecb3-0421074ca3d0",
        "colab": {
          "base_uri": "https://localhost:8080/"
        }
      },
      "source": [
        "from scipy.stats import hypergeom\n",
        "x = 4;\n",
        "M = 20;\n",
        "n = 6;\n",
        "N = 5;\n",
        "result = hypergeom.pmf(x, M, n, N)\n",
        "print(\"probability: \",round(result,4));"
      ],
      "execution_count": 11,
      "outputs": [
        {
          "output_type": "stream",
          "name": "stdout",
          "text": [
            "probability:  0.0135\n"
          ]
        }
      ]
    },
    {
      "cell_type": "markdown",
      "metadata": {
        "id": "l_PHkzpZa-BV"
      },
      "source": [
        "5. A small voting district has 101 female voters and 95 male voters. A random sample of 10\n",
        "voters is drawn. What is the probability exactly 7 of the voters will be female?\n"
      ]
    },
    {
      "cell_type": "code",
      "metadata": {
        "id": "fzJ46oU8bGzj",
        "outputId": "39f348a2-31e3-4873-aa20-7eb81028e738",
        "colab": {
          "base_uri": "https://localhost:8080/"
        }
      },
      "source": [
        "from scipy.stats import hypergeom\n",
        "x = 7;\n",
        "M = 196;\n",
        "n = 101;\n",
        "N = 10;\n",
        "result = hypergeom.pmf(x, M, n, N);\n",
        "\n",
        "print(\"probability: \",round(result,4));"
      ],
      "execution_count": 19,
      "outputs": [
        {
          "output_type": "stream",
          "name": "stdout",
          "text": [
            "probability:  0.1304\n"
          ]
        }
      ]
    },
    {
      "cell_type": "markdown",
      "metadata": {
        "id": "A5x9CCZfbHXL"
      },
      "source": [
        "6. A sample of 5 parts are drawn without replacement from a total population of 30 parts.\n"
      ]
    },
    {
      "cell_type": "markdown",
      "metadata": {
        "id": "_QJXqARjbPqW"
      },
      "source": [
        "i) Determine the probability of getting exactly 1, 2, 3, ….5 defective parts. The population is\n",
        "known to have 14 defective parts. "
      ]
    },
    {
      "cell_type": "code",
      "metadata": {
        "id": "7OW4R39mbXMS",
        "outputId": "30ae7a3f-58f9-4d52-89d2-0bf2a36bdcb0",
        "colab": {
          "base_uri": "https://localhost:8080/"
        }
      },
      "source": [
        "from scipy.stats import hypergeom\n",
        "x = 5;\n",
        "M = 30;\n",
        "n = 14;\n",
        "N = 5;\n",
        "result = 0;\n",
        "x_values = list(range(x + 1));\n",
        "del x_values[0];\n",
        "pd = [hypergeom.pmf(i, M, n, N) for i in x_values ];\n",
        "for i in range(x):\n",
        "  result = result + pd[i];\n",
        "\n",
        "print(\"probability: \",result);"
      ],
      "execution_count": 28,
      "outputs": [
        {
          "output_type": "stream",
          "name": "stdout",
          "text": [
            "probability:  0.9693486590038327\n"
          ]
        }
      ]
    },
    {
      "cell_type": "markdown",
      "metadata": {
        "id": "ycKoWCdnbXxg"
      },
      "source": [
        "ii) Plot the pmf and cdf using suitable graphs."
      ]
    },
    {
      "cell_type": "code",
      "metadata": {
        "id": "4Tt1wY4TbZ7F",
        "outputId": "f085642c-62a5-4615-a4db-8d5837d66f6c",
        "colab": {
          "base_uri": "https://localhost:8080/",
          "height": 581
        }
      },
      "source": [
        "from scipy.stats import hypergeom\n",
        "import matplotlib.pyplot as plt\n",
        "x = 5;\n",
        "M = 30;\n",
        "n = 14;\n",
        "N = 5;\n",
        "result = 0;\n",
        "x_values = list(range(x + 1));\n",
        "del x_values[0];\n",
        "pd = [hypergeom.pmf(i, M, n, N) for i in x_values ];\n",
        "cd = [hypergeom.cdf(i, M, n, N) for i in x_values ];\n",
        "print(\"\\nprobability distribution\");\n",
        "plt.bar(x_values, pd);\n",
        "plt.show();\n",
        "print(\"\\ncumulative probability distribution\");\n",
        "plt.bar(x_values, cd);\n",
        "plt.show();"
      ],
      "execution_count": 29,
      "outputs": [
        {
          "output_type": "stream",
          "name": "stdout",
          "text": [
            "\n",
            "probability distribution\n"
          ]
        },
        {
          "output_type": "display_data",
          "data": {
            "image/png": "[encoded data removed]",
            "text/plain": [
              "<Figure size 432x288 with 1 Axes>"
            ]
          },
          "metadata": {
            "needs_background": "light"
          }
        },
        {
          "output_type": "stream",
          "name": "stdout",
          "text": [
            "\n",
            "cumulative probability distribution\n"
          ]
        },
        {
          "output_type": "display_data",
          "data": {
            "image/png": "[encoded data removed]",
            "text/plain": [
              "<Figure size 432x288 with 1 Axes>"
            ]
          },
          "metadata": {
            "needs_background": "light"
          }
        }
      ]
    }
  ]
}